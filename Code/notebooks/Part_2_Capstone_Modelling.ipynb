{
 "cells": [
  {
   "cell_type": "markdown",
   "metadata": {},
   "source": [
    "# Capstone Project"
   ]
  },
  {
   "cell_type": "markdown",
   "metadata": {},
   "source": [
    "## Part 2"
   ]
  },
  {
   "cell_type": "markdown",
   "metadata": {},
   "source": [
    "### Task 1 - State the different modeling approaches that you will compare to address the business opportunity."
   ]
  },
  {
   "cell_type": "markdown",
   "metadata": {},
   "source": [
    "First important point is that the modelling will require time series based modelling. This means that the training data will need features that tell us about the past and future of this data point.\n",
    "\n",
    "In addtion, the data is strongly biased to the \"United Kingdom\" due to the prevalence of data there.  When predicting at a country specific level this could strongly impact the results.\n",
    "\n",
    "Initial models will start out simple, with more complex model types to be build to see if we can build out improvements.\n",
    "\n",
    "In addition, we will tune hyper parameters of the selected models."
   ]
  },
  {
   "cell_type": "markdown",
   "metadata": {},
   "source": [
    "### Task 2: Iterate on your suite of possible models by modifying data transformations, pipeline architectures, hyperparameters and other relevant factors."
   ]
  },
  {
   "cell_type": "code",
   "execution_count": 1,
   "metadata": {},
   "outputs": [],
   "source": [
    "import pandas as pd\n",
    "import seaborn as sns\n",
    "import matplotlib as plt\n",
    "import numpy as np\n",
    "import os as os\n",
    "import sys\n",
    "import datetime\n",
    "\n",
    "module_path = os.path.abspath(os.path.join('..'))\n",
    "if module_path not in sys.path:\n",
    "    sys.path.append(module_path)\n",
    "    \n",
    "import cslib\n",
    "import model"
   ]
  },
  {
   "cell_type": "code",
   "execution_count": 2,
   "metadata": {},
   "outputs": [],
   "source": [
    "# Core folders for training data and for dumps of images to be used in reports\n",
    "IMAGE_DIR = os.path.join(\"..\",\"images\")\n",
    "TRAIN_DATA_DIR = os.path.join(\"..\",\"cs-train\")"
   ]
  },
  {
   "cell_type": "code",
   "execution_count": 3,
   "metadata": {},
   "outputs": [
    {
     "name": "stdout",
     "output_type": "stream",
     "text": [
      "... loading ts data from files\n"
     ]
    }
   ],
   "source": [
    "df_ts = cslib.fetch_ts(TRAIN_DATA_DIR)"
   ]
  },
  {
   "cell_type": "code",
   "execution_count": 4,
   "metadata": {},
   "outputs": [
    {
     "name": "stdout",
     "output_type": "stream",
     "text": [
      "... test flag on\n",
      "...... subseting data\n",
      "...... subseting countries\n",
      "... loading ts data from files\n"
     ]
    },
    {
     "name": "stderr",
     "output_type": "stream",
     "text": [
      "/home/matthew/anaconda3/lib/python3.8/site-packages/sklearn/model_selection/_search.py:823: FutureWarning: The parameter 'iid' is deprecated in 0.22 and will be removed in 0.24.\n",
      "  warnings.warn(\n",
      "/home/matthew/anaconda3/lib/python3.8/site-packages/sklearn/model_selection/_search.py:823: FutureWarning: The parameter 'iid' is deprecated in 0.22 and will be removed in 0.24.\n",
      "  warnings.warn(\n"
     ]
    },
    {
     "name": "stdout",
     "output_type": "stream",
     "text": [
      "... saving test version of model: models/test-all-0_1.joblib\n"
     ]
    },
    {
     "name": "stderr",
     "output_type": "stream",
     "text": [
      "/home/matthew/anaconda3/lib/python3.8/site-packages/sklearn/model_selection/_search.py:823: FutureWarning: The parameter 'iid' is deprecated in 0.22 and will be removed in 0.24.\n",
      "  warnings.warn(\n"
     ]
    },
    {
     "name": "stdout",
     "output_type": "stream",
     "text": [
      "... saving test version of model: models/test-united_kingdom-0_1.joblib\n",
      "[['all', 56107.0, {'rf__criterion': 'mse', 'rf__n_estimators': 20}], ['united_kingdom', 32951.0, {'rf__criterion': 'mae', 'rf__n_estimators': 20}]]\n"
     ]
    },
    {
     "name": "stderr",
     "output_type": "stream",
     "text": [
      "/home/matthew/anaconda3/lib/python3.8/site-packages/sklearn/model_selection/_search.py:823: FutureWarning: The parameter 'iid' is deprecated in 0.22 and will be removed in 0.24.\n",
      "  warnings.warn(\n"
     ]
    }
   ],
   "source": [
    "results = model.model_train(TRAIN_DATA_DIR, True)"
   ]
  },
  {
   "cell_type": "code",
   "execution_count": 5,
   "metadata": {},
   "outputs": [
    {
     "data": {
      "text/plain": [
       "[['all', 56107.0, {'rf__criterion': 'mse', 'rf__n_estimators': 20}],\n",
       " ['united_kingdom', 32951.0, {'rf__criterion': 'mae', 'rf__n_estimators': 20}]]"
      ]
     },
     "execution_count": 5,
     "metadata": {},
     "output_type": "execute_result"
    }
   ],
   "source": [
    "results"
   ]
  },
  {
   "cell_type": "markdown",
   "metadata": {},
   "source": [
    "### Task 3 - Re-train your model on all of the data using the selected approach and prepare it for deployment.\n"
   ]
  },
  {
   "cell_type": "markdown",
   "metadata": {},
   "source": [
    "Done"
   ]
  },
  {
   "cell_type": "markdown",
   "metadata": {},
   "source": [
    "### Task 4 - Articulate your findings in a summary report."
   ]
  },
  {
   "cell_type": "code",
   "execution_count": 47,
   "metadata": {},
   "outputs": [],
   "source": [
    "import pandas as pd\n",
    "import seaborn as sns\n",
    "import matplotlib as plt\n",
    "import numpy as np\n",
    "import os as os\n",
    "import sys\n",
    "import datetime\n",
    "import ast\n",
    "\n",
    "module_path = os.path.abspath(os.path.join('..'))\n",
    "if module_path not in sys.path:\n",
    "    sys.path.append(module_path)\n",
    "    \n",
    "import cslib\n",
    "import model\n",
    "\n",
    "IMAGE_DIR = os.path.join(\"..\",\"images\")"
   ]
  },
  {
   "cell_type": "code",
   "execution_count": 2,
   "metadata": {},
   "outputs": [],
   "source": [
    "training_log_path = os.path.join('..', 'logs', 'train-test.log')"
   ]
  },
  {
   "cell_type": "code",
   "execution_count": 27,
   "metadata": {},
   "outputs": [],
   "source": [
    "df = pd.read_csv(training_log_path, delimiter=',', quotechar=\"|\")"
   ]
  },
  {
   "cell_type": "code",
   "execution_count": 8,
   "metadata": {},
   "outputs": [
    {
     "data": {
      "text/html": [
       "<div>\n",
       "<style scoped>\n",
       "    .dataframe tbody tr th:only-of-type {\n",
       "        vertical-align: middle;\n",
       "    }\n",
       "\n",
       "    .dataframe tbody tr th {\n",
       "        vertical-align: top;\n",
       "    }\n",
       "\n",
       "    .dataframe thead th {\n",
       "        text-align: right;\n",
       "    }\n",
       "</style>\n",
       "<table border=\"1\" class=\"dataframe\">\n",
       "  <thead>\n",
       "    <tr style=\"text-align: right;\">\n",
       "      <th></th>\n",
       "      <th>unique_id</th>\n",
       "      <th>timestamp</th>\n",
       "      <th>tag</th>\n",
       "      <th>date_range</th>\n",
       "      <th>error_result</th>\n",
       "      <th>best_params</th>\n",
       "      <th>model_version</th>\n",
       "      <th>model_version_note</th>\n",
       "      <th>runtime</th>\n",
       "    </tr>\n",
       "  </thead>\n",
       "  <tbody>\n",
       "    <tr>\n",
       "      <th>3</th>\n",
       "      <td>5d320e12-354b-4442-951d-8ce383166d9b</td>\n",
       "      <td>1.609407e+09</td>\n",
       "      <td>all</td>\n",
       "      <td>('2017-11-29', '2019-05-31')</td>\n",
       "      <td>{'rmse': 15325.0}</td>\n",
       "      <td>{'rf__criterion': 'mse', 'rf__n_estimators': 10}</td>\n",
       "      <td>0.1</td>\n",
       "      <td>supervised learing model for time-series</td>\n",
       "      <td>000:00:10</td>\n",
       "    </tr>\n",
       "    <tr>\n",
       "      <th>14</th>\n",
       "      <td>ca16fb7f-ba63-4e60-a43f-ed0ec21f2084</td>\n",
       "      <td>1.609407e+09</td>\n",
       "      <td>all</td>\n",
       "      <td>('2017-11-29', '2019-05-31')</td>\n",
       "      <td>{'rmse': 55559.0}</td>\n",
       "      <td>{}</td>\n",
       "      <td>0.2</td>\n",
       "      <td>second model attempt using LinearRegression</td>\n",
       "      <td>000:00:04</td>\n",
       "    </tr>\n",
       "    <tr>\n",
       "      <th>25</th>\n",
       "      <td>532c81c5-d559-435a-8386-8908dab90a4b</td>\n",
       "      <td>1.609407e+09</td>\n",
       "      <td>all</td>\n",
       "      <td>('2017-11-29', '2019-05-31')</td>\n",
       "      <td>{'rmse': 84187.0}</td>\n",
       "      <td>{'svr__epsilon': 0.5, 'svr__kernel': 'poly'}</td>\n",
       "      <td>0.3</td>\n",
       "      <td>third model attempt using Suppport Vector Regr...</td>\n",
       "      <td>000:00:05</td>\n",
       "    </tr>\n",
       "    <tr>\n",
       "      <th>36</th>\n",
       "      <td>9cd19594-ffc4-46a1-b677-0da95c611d05</td>\n",
       "      <td>1.609408e+09</td>\n",
       "      <td>all</td>\n",
       "      <td>('2017-11-29', '2019-05-31')</td>\n",
       "      <td>{'rmse': 84187.0}</td>\n",
       "      <td>{'svr__epsilon': 0.5, 'svr__kernel': 'poly'}</td>\n",
       "      <td>0.3</td>\n",
       "      <td>third model attempt using Suppport Vector Regr...</td>\n",
       "      <td>000:00:05</td>\n",
       "    </tr>\n",
       "    <tr>\n",
       "      <th>47</th>\n",
       "      <td>f913ea38-8eb5-4125-b28f-1de02c0c2ec6</td>\n",
       "      <td>1.609408e+09</td>\n",
       "      <td>all</td>\n",
       "      <td>('2017-11-29', '2019-05-31')</td>\n",
       "      <td>{'rmse': 70361.0}</td>\n",
       "      <td>{'br__max_features': 1, 'br__max_samples': 3, ...</td>\n",
       "      <td>0.4</td>\n",
       "      <td>fourth model attempt using a Bagging Regressor</td>\n",
       "      <td>000:00:05</td>\n",
       "    </tr>\n",
       "    <tr>\n",
       "      <th>58</th>\n",
       "      <td>b829331b-f0df-4c1a-9db1-0a7574dd5779</td>\n",
       "      <td>1.609408e+09</td>\n",
       "      <td>all</td>\n",
       "      <td>('2017-11-29', '2019-05-31')</td>\n",
       "      <td>{'rmse': 204420.0}</td>\n",
       "      <td>{}</td>\n",
       "      <td>0.5</td>\n",
       "      <td>shift to simple neural network</td>\n",
       "      <td>000:00:06</td>\n",
       "    </tr>\n",
       "  </tbody>\n",
       "</table>\n",
       "</div>"
      ],
      "text/plain": [
       "                               unique_id     timestamp  tag  \\\n",
       "3   5d320e12-354b-4442-951d-8ce383166d9b  1.609407e+09  all   \n",
       "14  ca16fb7f-ba63-4e60-a43f-ed0ec21f2084  1.609407e+09  all   \n",
       "25  532c81c5-d559-435a-8386-8908dab90a4b  1.609407e+09  all   \n",
       "36  9cd19594-ffc4-46a1-b677-0da95c611d05  1.609408e+09  all   \n",
       "47  f913ea38-8eb5-4125-b28f-1de02c0c2ec6  1.609408e+09  all   \n",
       "58  b829331b-f0df-4c1a-9db1-0a7574dd5779  1.609408e+09  all   \n",
       "\n",
       "                      date_range        error_result  \\\n",
       "3   ('2017-11-29', '2019-05-31')   {'rmse': 15325.0}   \n",
       "14  ('2017-11-29', '2019-05-31')   {'rmse': 55559.0}   \n",
       "25  ('2017-11-29', '2019-05-31')   {'rmse': 84187.0}   \n",
       "36  ('2017-11-29', '2019-05-31')   {'rmse': 84187.0}   \n",
       "47  ('2017-11-29', '2019-05-31')   {'rmse': 70361.0}   \n",
       "58  ('2017-11-29', '2019-05-31')  {'rmse': 204420.0}   \n",
       "\n",
       "                                          best_params  model_version  \\\n",
       "3    {'rf__criterion': 'mse', 'rf__n_estimators': 10}            0.1   \n",
       "14                                                 {}            0.2   \n",
       "25       {'svr__epsilon': 0.5, 'svr__kernel': 'poly'}            0.3   \n",
       "36       {'svr__epsilon': 0.5, 'svr__kernel': 'poly'}            0.3   \n",
       "47  {'br__max_features': 1, 'br__max_samples': 3, ...            0.4   \n",
       "58                                                 {}            0.5   \n",
       "\n",
       "                                   model_version_note    runtime  \n",
       "3            supervised learing model for time-series  000:00:10  \n",
       "14        second model attempt using LinearRegression  000:00:04  \n",
       "25  third model attempt using Suppport Vector Regr...  000:00:05  \n",
       "36  third model attempt using Suppport Vector Regr...  000:00:05  \n",
       "47     fourth model attempt using a Bagging Regressor  000:00:05  \n",
       "58                     shift to simple neural network  000:00:06  "
      ]
     },
     "execution_count": 8,
     "metadata": {},
     "output_type": "execute_result"
    }
   ],
   "source": [
    "df[df.tag=='all']"
   ]
  },
  {
   "cell_type": "code",
   "execution_count": 41,
   "metadata": {},
   "outputs": [
    {
     "name": "stdout",
     "output_type": "stream",
     "text": [
      "66\n",
      "66\n",
      "(66, 10)\n"
     ]
    },
    {
     "data": {
      "text/plain": [
       "[110.0,\n",
       " 186.0,\n",
       " 1912.0,\n",
       " 15325.0,\n",
       " 610.0,\n",
       " 65.0,\n",
       " 515.0,\n",
       " 2993.0,\n",
       " 21597.0,\n",
       " 965.0,\n",
       " 152.0,\n",
       " 327.0,\n",
       " 754.0,\n",
       " 3227.0,\n",
       " 55559.0,\n",
       " 971.0,\n",
       " 374.0,\n",
       " 902.0,\n",
       " 4238.0,\n",
       " 52975.0,\n",
       " 1661.0,\n",
       " 1443.0,\n",
       " 345.0,\n",
       " 957.0,\n",
       " 3871.0,\n",
       " 84187.0,\n",
       " 1076.0,\n",
       " 411.0,\n",
       " 886.0,\n",
       " 4652.0,\n",
       " 83367.0,\n",
       " 2901.0,\n",
       " 1626.0,\n",
       " 345.0,\n",
       " 957.0,\n",
       " 3871.0,\n",
       " 84187.0,\n",
       " 1076.0,\n",
       " 411.0,\n",
       " 886.0,\n",
       " 4652.0,\n",
       " 83367.0,\n",
       " 2901.0,\n",
       " 1626.0,\n",
       " 345.0,\n",
       " 1061.0,\n",
       " 3594.0,\n",
       " 70361.0,\n",
       " 1056.0,\n",
       " 396.0,\n",
       " 939.0,\n",
       " 4115.0,\n",
       " 80119.0,\n",
       " 1751.0,\n",
       " 1680.0,\n",
       " 736.0,\n",
       " 1263.0,\n",
       " 5996.0,\n",
       " 204420.0,\n",
       " 2215.0,\n",
       " 427.0,\n",
       " 2470.0,\n",
       " 4653.0,\n",
       " 185915.0,\n",
       " 2974.0,\n",
       " 1739.0]"
      ]
     },
     "execution_count": 41,
     "metadata": {},
     "output_type": "execute_result"
    }
   ],
   "source": [
    "# Convert error result to dictionary\n",
    "rmse_list = []\n",
    "\n",
    "for i in range(0, len(df.error_result)):\n",
    "    rmse_list.append(ast.literal_eval(df.error_result[i])['rmse'])\n",
    "    \n",
    "    \n",
    "se = pd.Series(rmse_list)\n",
    "df['rsme'] = se.values"
   ]
  },
  {
   "cell_type": "code",
   "execution_count": 45,
   "metadata": {},
   "outputs": [
    {
     "data": {
      "text/html": [
       "<div>\n",
       "<style scoped>\n",
       "    .dataframe tbody tr th:only-of-type {\n",
       "        vertical-align: middle;\n",
       "    }\n",
       "\n",
       "    .dataframe tbody tr th {\n",
       "        vertical-align: top;\n",
       "    }\n",
       "\n",
       "    .dataframe thead th {\n",
       "        text-align: right;\n",
       "    }\n",
       "</style>\n",
       "<table border=\"1\" class=\"dataframe\">\n",
       "  <thead>\n",
       "    <tr style=\"text-align: right;\">\n",
       "      <th></th>\n",
       "      <th>error_result</th>\n",
       "      <th>rsme</th>\n",
       "    </tr>\n",
       "  </thead>\n",
       "  <tbody>\n",
       "    <tr>\n",
       "      <th>0</th>\n",
       "      <td>{'rmse': 110.0}</td>\n",
       "      <td>110.0</td>\n",
       "    </tr>\n",
       "    <tr>\n",
       "      <th>1</th>\n",
       "      <td>{'rmse': 186.0}</td>\n",
       "      <td>186.0</td>\n",
       "    </tr>\n",
       "    <tr>\n",
       "      <th>2</th>\n",
       "      <td>{'rmse': 1912.0}</td>\n",
       "      <td>1912.0</td>\n",
       "    </tr>\n",
       "    <tr>\n",
       "      <th>3</th>\n",
       "      <td>{'rmse': 15325.0}</td>\n",
       "      <td>15325.0</td>\n",
       "    </tr>\n",
       "    <tr>\n",
       "      <th>4</th>\n",
       "      <td>{'rmse': 610.0}</td>\n",
       "      <td>610.0</td>\n",
       "    </tr>\n",
       "    <tr>\n",
       "      <th>...</th>\n",
       "      <td>...</td>\n",
       "      <td>...</td>\n",
       "    </tr>\n",
       "    <tr>\n",
       "      <th>61</th>\n",
       "      <td>{'rmse': 2470.0}</td>\n",
       "      <td>2470.0</td>\n",
       "    </tr>\n",
       "    <tr>\n",
       "      <th>62</th>\n",
       "      <td>{'rmse': 4653.0}</td>\n",
       "      <td>4653.0</td>\n",
       "    </tr>\n",
       "    <tr>\n",
       "      <th>63</th>\n",
       "      <td>{'rmse': 185915.0}</td>\n",
       "      <td>185915.0</td>\n",
       "    </tr>\n",
       "    <tr>\n",
       "      <th>64</th>\n",
       "      <td>{'rmse': 2974.0}</td>\n",
       "      <td>2974.0</td>\n",
       "    </tr>\n",
       "    <tr>\n",
       "      <th>65</th>\n",
       "      <td>{'rmse': 1739.0}</td>\n",
       "      <td>1739.0</td>\n",
       "    </tr>\n",
       "  </tbody>\n",
       "</table>\n",
       "<p>66 rows × 2 columns</p>\n",
       "</div>"
      ],
      "text/plain": [
       "          error_result      rsme\n",
       "0      {'rmse': 110.0}     110.0\n",
       "1      {'rmse': 186.0}     186.0\n",
       "2     {'rmse': 1912.0}    1912.0\n",
       "3    {'rmse': 15325.0}   15325.0\n",
       "4      {'rmse': 610.0}     610.0\n",
       "..                 ...       ...\n",
       "61    {'rmse': 2470.0}    2470.0\n",
       "62    {'rmse': 4653.0}    4653.0\n",
       "63  {'rmse': 185915.0}  185915.0\n",
       "64    {'rmse': 2974.0}    2974.0\n",
       "65    {'rmse': 1739.0}    1739.0\n",
       "\n",
       "[66 rows x 2 columns]"
      ]
     },
     "execution_count": 45,
     "metadata": {},
     "output_type": "execute_result"
    }
   ],
   "source": [
    "df[[\"error_result\",\"rsme\"]]"
   ]
  },
  {
   "cell_type": "code",
   "execution_count": 49,
   "metadata": {},
   "outputs": [
    {
     "data": {
      "image/png": "[encoded data removed]",
      "text/plain": [
       "<Figure size 432x288 with 1 Axes>"
      ]
     },
     "metadata": {
      "needs_background": "light"
     },
     "output_type": "display_data"
    }
   ],
   "source": [
    "fig = sns.lineplot(data=df, y='rsme', x='model_version', hue='tag' )\n",
    "image_path = os.path.join(IMAGE_DIR,\"Error_Rates.png\")\n",
    "fig.set_title(\"Error Rates\")\n",
    "fig.legend(bbox_to_anchor=(1.05, 1), loc=2, borderaxespad=0.)\n",
    "fig.get_figure().savefig(image_path,bbox_inches='tight',pad_inches = 0,dpi=200)"
   ]
  },
  {
   "cell_type": "code",
   "execution_count": 57,
   "metadata": {},
   "outputs": [],
   "source": [
    "df_small_countries = df[(df.tag != 'all') & (df.tag != 'united_kingdom')]"
   ]
  },
  {
   "cell_type": "code",
   "execution_count": 58,
   "metadata": {},
   "outputs": [
    {
     "data": {
      "image/png": "[encoded data removed]",
      "text/plain": [
       "<Figure size 432x288 with 1 Axes>"
      ]
     },
     "metadata": {
      "needs_background": "light"
     },
     "output_type": "display_data"
    }
   ],
   "source": [
    "fig = sns.lineplot(data=df_small_countries, y='rsme', x='model_version', hue='tag' )\n",
    "image_path = os.path.join(IMAGE_DIR,\"Error_Rates_SC.png\")\n",
    "fig.set_title(\"Error Rates (Small Countries)\")\n",
    "fig.legend(bbox_to_anchor=(1.05, 1), loc=2, borderaxespad=0.)\n",
    "fig.get_figure().savefig(image_path,bbox_inches='tight',pad_inches = 0,dpi=200)"
   ]
  },
  {
   "cell_type": "markdown",
   "metadata": {},
   "source": [
    "See attached PDF"
   ]
  },
  {
   "cell_type": "markdown",
   "metadata": {},
   "source": []
  }
 ],
 "metadata": {
  "kernelspec": {
   "display_name": "Python 3",
   "language": "python",
   "name": "python3"
  },
  "language_info": {
   "codemirror_mode": {
    "name": "ipython",
    "version": 3
   },
   "file_extension": ".py",
   "mimetype": "text/x-python",
   "name": "python",
   "nbconvert_exporter": "python",
   "pygments_lexer": "ipython3",
   "version": "3.8.3"
  }
 },
 "nbformat": 4,
 "nbformat_minor": 4
}
